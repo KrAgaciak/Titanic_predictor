{
 "cells": [
  {
   "cell_type": "code",
   "id": "initial_id",
   "metadata": {
    "collapsed": true,
    "ExecuteTime": {
     "end_time": "2025-10-16T20:07:23.481063Z",
     "start_time": "2025-10-16T20:07:22.933056Z"
    }
   },
   "source": [
    "import pandas as pd\n",
    "from sklearn.model_selection import train_test_split\n",
    "from sklearn.metrics import f1_score\n",
    "from sklearn.ensemble import RandomForestClassifier\n",
    "from sklearn.linear_model import LogisticRegression\n",
    "\n",
    "\n",
    " \n",
    "df = pd.read_csv(\"../data/01_raw/Titanic-Dataset.csv\")\n",
    " \n",
    "def basic_clean(df):\n",
    "    out = df[[\"Pclass\",\"Sex\",\"Age\",\"SibSp\",\"Parch\",\"Fare\",\"Embarked\"]].copy()\n",
    "    out[\"Sex\"] = (out[\"Sex\"]==\"male\").astype(int)\n",
    "    out[\"Age\"] = out[\"Age\"].fillna(out[\"Age\"].median())\n",
    "    out[\"Fare\"] = out[\"Fare\"].fillna(out[\"Fare\"].median())\n",
    "    out[\"Embarked\"] = out[\"Embarked\"].fillna(out[\"Embarked\"].mode().iloc[0])\n",
    "    out = pd.get_dummies(out, columns=[\"Embarked\"], drop_first=True)\n",
    "    return out\n",
    " \n",
    "X = basic_clean(df)\n",
    "y = df[\"Survived\"]\n",
    "X_train, X_test, y_train, y_test = train_test_split(\n",
    "    X, y, test_size=0.2, stratify=y, random_state=42\n",
    ")\n",
    "\n",
    "rf = RandomForestClassifier(random_state=42)\n",
    "rf.fit(X_train, y_train)\n",
    "pred2 = rf.predict(X_test)\n",
    "print(\"F1 (RF):\", f1_score(y_test, pred2))\n",
    "\n",
    "clf = LogisticRegression(max_iter=1000)\n",
    "clf.fit(X_train, y_train)\n",
    "pred = clf.predict(X_test)\n",
    "print(\"F1 (LR):\", f1_score(y_test, pred))"
   ],
   "outputs": [
    {
     "name": "stdout",
     "output_type": "stream",
     "text": [
      "F1 (RF): 0.732824427480916\n",
      "F1 (LR): 0.7244094488188977\n"
     ]
    }
   ],
   "execution_count": 3
  }
 ],
 "metadata": {
  "kernelspec": {
   "display_name": "Python 3",
   "language": "python",
   "name": "python3"
  },
  "language_info": {
   "codemirror_mode": {
    "name": "ipython",
    "version": 2
   },
   "file_extension": ".py",
   "mimetype": "text/x-python",
   "name": "python",
   "nbconvert_exporter": "python",
   "pygments_lexer": "ipython2",
   "version": "2.7.6"
  }
 },
 "nbformat": 4,
 "nbformat_minor": 5
}
